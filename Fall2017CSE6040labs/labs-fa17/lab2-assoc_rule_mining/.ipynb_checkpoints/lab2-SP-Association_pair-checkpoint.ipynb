{
 "cells": [
  {
   "cell_type": "code",
   "execution_count": 1,
   "metadata": {
    "collapsed": false
   },
   "outputs": [
    {
     "name": "stdout",
     "output_type": "stream",
     "text": [
      "First 100 characters:\n",
      "  \n",
      "Sed ut perspiciatis, unde omnis iste natus error sit\n",
      "voluptatem accusantium doloremque laudantium,  ...\n"
     ]
    }
   ],
   "source": [
    "latin_text = \"\"\"\n",
    "Sed ut perspiciatis, unde omnis iste natus error sit\n",
    "voluptatem accusantium doloremque laudantium, totam\n",
    "rem aperiam eaque ipsa, quae ab illo inventore\n",
    "veritatis et quasi architecto beatae vitae dicta\n",
    "sunt, explicabo. Nemo enim ipsam voluptatem, quia\n",
    "voluptas sit, aspernatur aut odit aut fugit, sed\n",
    "quia consequuntur magni dolores eos, qui ratione\n",
    "voluptatem sequi nesciunt, neque porro quisquam est,\n",
    "qui dolorem ipsum, quia dolor sit amet consectetur\n",
    "adipisci[ng] velit, sed quia non numquam [do] eius\n",
    "modi tempora inci[di]dunt, ut labore et dolore\n",
    "magnam aliquam quaerat voluptatem. Ut enim ad minima\n",
    "veniam, quis nostrum exercitationem ullam corporis\n",
    "suscipit laboriosam, nisi ut aliquid ex ea commodi\n",
    "consequatur? Quis autem vel eum iure reprehenderit,\n",
    "qui in ea voluptate velit esse, quam nihil molestiae\n",
    "consequatur, vel illum, qui dolorem eum fugiat, quo\n",
    "voluptas nulla pariatur?\n",
    "\n",
    "At vero eos et accusamus et iusto odio dignissimos\n",
    "ducimus, qui blanditiis praesentium voluptatum\n",
    "deleniti atque corrupti, quos dolores et quas\n",
    "molestias excepturi sint, obcaecati cupiditate non\n",
    "provident, similique sunt in culpa, qui officia\n",
    "deserunt mollitia animi, id est laborum et dolorum\n",
    "fuga. Et harum quidem rerum facilis est et expedita\n",
    "distinctio. Nam libero tempore, cum soluta nobis est\n",
    "eligendi optio, cumque nihil impedit, quo minus id,\n",
    "quod maxime placeat, facere possimus, omnis voluptas\n",
    "assumenda est, omnis dolor repellendus. Temporibus\n",
    "autem quibusdam et aut officiis debitis aut rerum\n",
    "necessitatibus saepe eveniet, ut et voluptates\n",
    "repudiandae sint et molestiae non recusandae. Itaque\n",
    "earum rerum hic tenetur a sapiente delectus, ut aut\n",
    "reiciendis voluptatibus maiores alias consequatur\n",
    "aut perferendis doloribus asperiores repellat.\n",
    "\"\"\"\n",
    "\n",
    "print(\"First 100 characters:\\n  {} ...\".format(latin_text[:100]))"
   ]
  },
  {
   "cell_type": "code",
   "execution_count": 1,
   "metadata": {
    "collapsed": false
   },
   "outputs": [
    {
     "ename": "NameError",
     "evalue": "name 'latin_text' is not defined",
     "output_type": "error",
     "traceback": [
      "\u001b[0;31m---------------------------------------------------------------------------\u001b[0m",
      "\u001b[0;31mNameError\u001b[0m                                 Traceback (most recent call last)",
      "\u001b[0;32m<ipython-input-1-74e9baba5447>\u001b[0m in \u001b[0;36m<module>\u001b[0;34m()\u001b[0m\n\u001b[1;32m      8\u001b[0m \u001b[0;31m# Demo:\u001b[0m\u001b[0;34m\u001b[0m\u001b[0;34m\u001b[0m\u001b[0m\n\u001b[1;32m      9\u001b[0m \u001b[0;31m## print(latin_text[:100], \"...\\n=>\", normalize_string(latin_text[:100]), \"...\")\u001b[0m\u001b[0;34m\u001b[0m\u001b[0;34m\u001b[0m\u001b[0m\n\u001b[0;32m---> 10\u001b[0;31m \u001b[0mlatin_text\u001b[0m\u001b[0;34m=\u001b[0m\u001b[0mnormalize_string\u001b[0m\u001b[0;34m(\u001b[0m\u001b[0mlatin_text\u001b[0m\u001b[0;34m)\u001b[0m\u001b[0;34m\u001b[0m\u001b[0m\n\u001b[0m\u001b[1;32m     11\u001b[0m \u001b[0mprint\u001b[0m\u001b[0;34m(\u001b[0m\u001b[0mlatin_text\u001b[0m\u001b[0;34m)\u001b[0m\u001b[0;34m\u001b[0m\u001b[0m\n",
      "\u001b[0;31mNameError\u001b[0m: name 'latin_text' is not defined"
     ]
    }
   ],
   "source": [
    "import re\n",
    "def normalize_string(s):\n",
    "    assert type (s) is str\n",
    "    s=s.lower()\n",
    "    s=re.sub(' +',' ',s)\n",
    "    s=re.sub('[^ a-z]+','',s)\n",
    "    return(s)\n",
    "# Demo:\n",
    "## print(latin_text[:100], \"...\\n=>\", normalize_string(latin_text[:100]), \"...\")\n",
    "latin_text=normalize_string(latin_text)"
   ]
  },
  {
   "cell_type": "code",
   "execution_count": 3,
   "metadata": {
    "collapsed": false
   },
   "outputs": [],
   "source": [
    "def get_normalized_words (s):\n",
    "    assert type (s) is str\n",
    "    latin_text_list = s.split()\n",
    "    return latin_text_list\n",
    "    raise NotImplementedError()\n",
    "\n",
    "# Demo:\n",
    "## print (\"First five words:\\n{}\".format (get_normalized_words (latin_text)[:5]))\n",
    "new_word_list = get_normalized_words(latin_text)"
   ]
  },
  {
   "cell_type": "code",
   "execution_count": 4,
   "metadata": {
    "collapsed": false
   },
   "outputs": [],
   "source": [
    "def make_itemsets(words):\n",
    "#    return [set(word) for word in words]\n",
    "    set_of_latin_words = []\n",
    "    for each_string in words:\n",
    "        set_of_latin_words.append(set(each_string))\n",
    "    return set_of_latin_words\n",
    "itemsets = make_itemsets(new_word_list)"
   ]
  },
  {
   "cell_type": "code",
   "execution_count": 5,
   "metadata": {
    "collapsed": false
   },
   "outputs": [],
   "source": [
    "from collections import defaultdict\n",
    "from itertools import combinations # Hint!\n",
    "## pair_counts = defaultdict(int)\n",
    "def update_pair_counts (pair_counts, itemset):\n",
    "    \"\"\"\n",
    "    Updates a dictionary of pair counts for\n",
    "    all pairs of items in a given itemset.\n",
    "    \"\"\"\n",
    "    for a,b in combinations(itemset,2):\n",
    "        pair_counts[a,b] +=1\n",
    "        pair_counts[b,a] +=1\n",
    "    return(pair_counts)\n",
    "## itemset_1 = set(\"error\")\n",
    "## pair_counts_table = update_pair_counts(pair_counts, itemset_1)\n",
    "## print(pair_counts_table)"
   ]
  },
  {
   "cell_type": "code",
   "execution_count": 6,
   "metadata": {
    "collapsed": false
   },
   "outputs": [],
   "source": [
    "## item_counts = defaultdict(int)\n",
    "def update_item_counts(item_counts, itemset):\n",
    "    for c in itemset:\n",
    "        item_counts[c] +=1\n",
    "    return(item_counts)\n",
    "## itemset_1 = set(\"error\")\n",
    "## itemset_2 = set(\"dolor\")\n",
    "#print (update_item_counts(item_counts, itemset_1))\n",
    "## update_item_counts(item_counts, itemset_1)\n",
    "## item_counts_table = update_item_counts(item_counts, itemset_2)\n",
    "## print (item_counts_table)"
   ]
  },
  {
   "cell_type": "code",
   "execution_count": 7,
   "metadata": {
    "collapsed": false
   },
   "outputs": [],
   "source": [
    "#threshold = 0.0\n",
    "#rules={}\n",
    "def filter_rules_by_conf (pair_counts, item_counts, threshold):\n",
    "#    rules = {} # (item_a, item_b) -> conf (item_a => item_b)\n",
    "    # YOUR CODE HERE\n",
    "    # for each key (x,y) from pairs table and get the value(m)\n",
    "    # lookup x in items table an get the value (n)\n",
    "    # threshold = m/n\n",
    "    # rules table has list of pairs x,y and threshold (m/n)\n",
    "    for a,b in pair_counts:\n",
    "        threshold_calc = pair_counts[a,b]/item_counts[a]\n",
    "        if (threshold_calc > threshold) :\n",
    "            rules [a,b]=threshold_calc\n",
    "#    raise NotImplementedError()\n",
    "    return rules\n",
    "## rules = filter_rules_by_conf(pair_counts_table, item_counts_table, 0.5)\n",
    "## print (rules)"
   ]
  },
  {
   "cell_type": "code",
   "execution_count": 8,
   "metadata": {
    "collapsed": false
   },
   "outputs": [],
   "source": [
    "def gen_rule_str(a, b, val=None, val_fmt='{:.3f}', sep=\" = \"):\n",
    "    text = \"{} => {}\".format(a, b)\n",
    "    if val:\n",
    "        text = \"conf(\" + text + \")\"\n",
    "        text += sep + val_fmt.format(val)\n",
    "    return text\n",
    "\n",
    "def print_rules(rules):\n",
    "    if type(rules) is dict or type(rules) is defaultdict:\n",
    "        from operator import itemgetter\n",
    "        ordered_rules = sorted(rules.items(), key=itemgetter(1), reverse=True)\n",
    "    else: # Assume rules is iterable\n",
    "        ordered_rules = [((a, b), None) for a, b in rules]\n",
    "    for (a, b), conf_ab in ordered_rules:\n",
    "        print(gen_rule_str(a, b, conf_ab))\n",
    "\n",
    "# Demo:\n",
    "## print_rules(rules)"
   ]
  },
  {
   "cell_type": "code",
   "execution_count": 9,
   "metadata": {
    "collapsed": false
   },
   "outputs": [],
   "source": [
    "def find_assoc_rules(receipts, threshold):\n",
    "    pair_counts = defaultdict(int)\n",
    "    item_counts = defaultdict(int)\n",
    "    for each_item_set in receipts:\n",
    "        update_pair_counts(pair_counts,each_item_set)\n",
    "        update_item_counts(item_counts,each_item_set)\n",
    "    filter_rules_by_conf (pair_counts,item_counts, threshold)\n",
    "    return (rules)\n",
    "rules={}\n",
    "latin_rules=find_assoc_rules(itemsets,0.6)\n",
    "# print_rules(rules)"
   ]
  },
  {
   "cell_type": "code",
   "execution_count": 10,
   "metadata": {
    "collapsed": true
   },
   "outputs": [],
   "source": [
    "english_text = \"\"\"\n",
    "But I must explain to you how all this mistaken idea\n",
    "of denouncing of a pleasure and praising pain was\n",
    "born and I will give you a complete account of the\n",
    "system, and expound the actual teachings of the great\n",
    "explorer of the truth, the master-builder of human\n",
    "happiness. No one rejects, dislikes, or avoids\n",
    "pleasure itself, because it is pleasure, but because\n",
    "those who do not know how to pursue pleasure\n",
    "rationally encounter consequences that are extremely\n",
    "painful. Nor again is there anyone who loves or\n",
    "pursues or desires to obtain pain of itself, because\n",
    "it is pain, but occasionally circumstances occur in\n",
    "which toil and pain can procure him some great\n",
    "pleasure. To take a trivial example, which of us\n",
    "ever undertakes laborious physical exercise, except\n",
    "to obtain some advantage from it? But who has any\n",
    "right to find fault with a man who chooses to enjoy\n",
    "a pleasure that has no annoying consequences, or\n",
    "one who avoids a pain that produces no resultant\n",
    "pleasure?\n",
    "\n",
    "On the other hand, we denounce with righteous\n",
    "indignation and dislike men who are so beguiled and\n",
    "demoralized by the charms of pleasure of the moment,\n",
    "so blinded by desire, that they cannot foresee the\n",
    "pain and trouble that are bound to ensue; and equal\n",
    "blame belongs to those who fail in their duty\n",
    "through weakness of will, which is the same as\n",
    "saying through shrinking from toil and pain. These\n",
    "cases are perfectly simple and easy to distinguish.\n",
    "In a free hour, when our power of choice is\n",
    "untrammeled and when nothing prevents our being\n",
    "able to do what we like best, every pleasure is to\n",
    "be welcomed and every pain avoided. But in certain\n",
    "circumstances and owing to the claims of duty or\n",
    "the obligations of business it will frequently\n",
    "occur that pleasures have to be repudiated and\n",
    "annoyances accepted. The wise man therefore always\n",
    "holds in these matters to this principle of\n",
    "selection: he rejects pleasures to secure other\n",
    "greater pleasures, or else he endures pains to\n",
    "avoid worse pains.\n",
    "\"\"\""
   ]
  },
  {
   "cell_type": "code",
   "execution_count": 11,
   "metadata": {
    "collapsed": false
   },
   "outputs": [],
   "source": [
    "english_text=normalize_string(english_text)\n",
    "# print(english_text[:100], \"...\\n=>\", normalize_string(engish_text[:100]), \"...\")"
   ]
  },
  {
   "cell_type": "code",
   "execution_count": 12,
   "metadata": {
    "collapsed": false
   },
   "outputs": [
    {
     "name": "stdout",
     "output_type": "stream",
     "text": [
      "defaultdict(<class 'int'>, {'in': 1, 'do': 1, 'a': 1})\n"
     ]
    }
   ],
   "source": [
    "d_latin=defaultdict(int)\n",
    "d_english=defaultdict(int)\n",
    "keys_latin = {}\n",
    "keys_english = {}\n",
    "common_key=defaultdict(int)\n",
    "def intersect_keys(d1, d2):\n",
    "    assert type(d_latin) is dict or type(d_latin) is defaultdict\n",
    "    assert type(d_english) is dict or type(d_english) is defaultdict\n",
    "    for latin_word in latin_text.split() :\n",
    "        d_latin[latin_word] += 1\n",
    "    for english_word in english_text.split() :\n",
    "        d_english[english_word] += 1\n",
    "    keys_d_latin = set(d_latin)\n",
    "    keys_d_english = set(d_english)\n",
    "    for latin_key in keys_d_latin:\n",
    "        if latin_key in keys_d_english:\n",
    "          common_key[latin_key] +=1\n",
    "    return(common_key)\n",
    "intersect_keys(d_latin, d_english)\n",
    "print(common_key)"
   ]
  }
 ],
 "metadata": {
  "kernelspec": {
   "display_name": "Python 3",
   "language": "python",
   "name": "python3"
  },
  "language_info": {
   "codemirror_mode": {
    "name": "ipython",
    "version": 3
   },
   "file_extension": ".py",
   "mimetype": "text/x-python",
   "name": "python",
   "nbconvert_exporter": "python",
   "pygments_lexer": "ipython3",
   "version": "3.6.0"
  }
 },
 "nbformat": 4,
 "nbformat_minor": 2
}
