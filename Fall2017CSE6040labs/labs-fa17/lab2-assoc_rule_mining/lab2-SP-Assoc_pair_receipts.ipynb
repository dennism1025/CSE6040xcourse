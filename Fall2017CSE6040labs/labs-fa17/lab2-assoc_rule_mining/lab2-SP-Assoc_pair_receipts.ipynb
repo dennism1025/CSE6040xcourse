{
 "cells": [
  {
   "cell_type": "code",
   "execution_count": 1,
   "metadata": {
    "collapsed": true
   },
   "outputs": [],
   "source": [
    "def get_normalized_receipt (receipt_line):\n",
    "    assert type (receipt_line) is str\n",
    "    receipt_item_list = receipt_line.split(\"\\n\")\n",
    "    return receipt_item_list\n",
    "    raise NotImplementedError()\n",
    "\n",
    "# Demo:\n",
    "## print (\"First five words:\\n{}\".format (get_normalized_words (latin_text)[:5]))"
   ]
  },
  {
   "cell_type": "code",
   "execution_count": 2,
   "metadata": {
    "collapsed": true
   },
   "outputs": [],
   "source": [
    "def make_itemsets(words):\n",
    "#    return [set(word) for word in words]\n",
    "#    set_of_items = []\n",
    "#    print(set_of_items)\n",
    "#    for each_string in words:\n",
    "#        set_of_items.append(set(each_string))\n",
    "    return words.split(\",\")"
   ]
  },
  {
   "cell_type": "code",
   "execution_count": 3,
   "metadata": {
    "collapsed": true
   },
   "outputs": [],
   "source": [
    "from collections import defaultdict\n",
    "from itertools import combinations # Hint!\n",
    "## pair_counts = defaultdict(int)\n",
    "def update_pair_counts (pair_counts, itemset):\n",
    "    \"\"\"\n",
    "    Updates a dictionary of pair counts for\n",
    "    all pairs of items in a given itemset.\n",
    "    \"\"\"\n",
    "    for a,b in combinations(itemset,2):\n",
    "        pair_counts[a,b] +=1\n",
    "        pair_counts[b,a] +=1\n",
    "    return(pair_counts)"
   ]
  },
  {
   "cell_type": "code",
   "execution_count": 4,
   "metadata": {
    "collapsed": true
   },
   "outputs": [],
   "source": [
    "## item_counts = defaultdict(int)\n",
    "def update_item_counts(item_counts, itemset):\n",
    "    for c in itemset:\n",
    "        item_counts[c] +=1\n",
    "    return(item_counts)\n",
    "## itemset_1 = set(\"error\")\n",
    "## itemset_2 = set(\"dolor\")\n",
    "#print (update_item_counts(item_counts, itemset_1))\n",
    "## update_item_counts(item_counts, itemset_1)\n",
    "## item_counts_table = update_item_counts(item_counts, itemset_2)\n",
    "## print (item_counts_table)"
   ]
  },
  {
   "cell_type": "code",
   "execution_count": 5,
   "metadata": {
    "collapsed": true
   },
   "outputs": [],
   "source": [
    "#threshold = 0.0\n",
    "#rules={}\n",
    "def filter_rules_by_conf (pair_counts, item_counts, threshold):\n",
    "#    rules = {} # (item_a, item_b) -> conf (item_a => item_b)\n",
    "    # YOUR CODE HERE\n",
    "    # for each key (x,y) from pairs table and get the value(m)\n",
    "    # lookup x in items table an get the value (n)\n",
    "    # threshold = m/n\n",
    "    # rules table has list of pairs x,y and threshold (m/n)\n",
    "    for a,b in pair_counts:\n",
    "        threshold_calc = pair_counts[a,b]/item_counts[a]\n",
    "#        print(a,b, threshold_calc)\n",
    "        if (threshold_calc > threshold) and (item_counts[a]>1) :\n",
    "#            print(a,b, threshold_calc)\n",
    "            rules [a,b]=threshold_calc\n",
    "#    raise NotImplementedError()\n",
    "    return rules\n",
    "## rules = filter_rules_by_conf(pair_counts_table, item_counts_table, 0.5)\n",
    "## print (rules)"
   ]
  },
  {
   "cell_type": "code",
   "execution_count": 6,
   "metadata": {
    "collapsed": true
   },
   "outputs": [],
   "source": [
    "def gen_rule_str(a, b, val=None, val_fmt='{:.3f}', sep=\" = \"):\n",
    "    text = \"{} => {}\".format(a, b)\n",
    "    if val:\n",
    "        text = \"conf(\" + text + \")\"\n",
    "        text += sep + val_fmt.format(val)\n",
    "    return text\n",
    "\n",
    "def print_rules(rules):\n",
    "    if type(rules) is dict or type(rules) is defaultdict:\n",
    "        from operator import itemgetter\n",
    "        ordered_rules = sorted(rules.items(), key=itemgetter(1), reverse=True)\n",
    "    else: # Assume rules is iterable\n",
    "        ordered_rules = [((a, b), None) for a, b in rules]\n",
    "    for (a, b), conf_ab in ordered_rules:\n",
    "        print(gen_rule_str(a, b, conf_ab))\n",
    "\n",
    "# Demo:\n",
    "## print_rules(rules)"
   ]
  },
  {
   "cell_type": "code",
   "execution_count": 7,
   "metadata": {
    "collapsed": false
   },
   "outputs": [],
   "source": [
    "def find_assoc_rules(receipts, threshold):\n",
    "    pair_counts = defaultdict(int)\n",
    "    item_counts = defaultdict(int)\n",
    "    all_receipts = get_normalized_receipt(groceries_file)\n",
    "    for receipt_line in all_receipts:\n",
    "#        print(\"each receipt\",receipt_line)\n",
    "        each_item_set = make_itemsets(receipt_line)\n",
    "#        print(\"split receipt\",each_item_set)\n",
    "#        print(\"pair counts before\", pair_counts)\n",
    "        update_pair_counts(pair_counts,each_item_set)\n",
    "#        print(\"pair counts after\", pair_counts)\n",
    "#        print(\"item counts before\", item_counts)\n",
    "        update_item_counts(item_counts,each_item_set)\n",
    "#        print(\"item counts after\", item_counts)\n",
    "#        input(\"Press Enter to continue...\")\n",
    "    filter_rules_by_conf (pair_counts,item_counts, threshold)\n",
    "    return (rules)"
   ]
  },
  {
   "cell_type": "code",
   "execution_count": 8,
   "metadata": {
    "collapsed": false
   },
   "outputs": [
    {
     "name": "stdout",
     "output_type": "stream",
     "text": [
      "citrus fruit,semi-finished bread,margarine,ready soups\n",
      "tropical fruit,yogurt,coffee\n",
      "whole milk\n",
      "pip fruit,yogurt,cream cheese ,meat spreads\n",
      "other vegetables,whole milk,condensed milk,long life bakery product\n",
      "whole milk,butter,yogurt,rice,abrasive clea...\n",
      "... (etc.) ...\n"
     ]
    }
   ],
   "source": [
    "import requests\n",
    "response = requests.get ('https://raw.githubusercontent.com/cse6040/labs-fa17/master/lab2-assoc_rule_mining/groceries.csv')\n",
    "groceries_file = response.text  # or response.content for raw bytes\n",
    "print (groceries_file[0:250] + \"...\\n... (etc.) ...\") # Prints the first 250 characters only"
   ]
  },
  {
   "cell_type": "code",
   "execution_count": 9,
   "metadata": {
    "collapsed": false
   },
   "outputs": [
    {
     "name": "stdout",
     "output_type": "stream",
     "text": [
      "conf(preservation products => citrus fruit) = 1.000\n",
      "conf(preservation products => whipped/sour cream) = 1.000\n",
      "conf(kitchen utensil => whole milk) = 0.750\n",
      "conf(honey => whole milk) = 0.733\n",
      "conf(frozen fruits => other vegetables) = 0.667\n",
      "conf(cereals => whole milk) = 0.643\n",
      "conf(salad dressing => other vegetables) = 0.625\n",
      "conf(rice => whole milk) = 0.613\n"
     ]
    }
   ],
   "source": [
    "rules={}\n",
    "all_receipts = get_normalized_receipt(groceries_file)\n",
    "#for receipt_line in all_receipts:\n",
    "#    print(\"each line\",receipt_line)\n",
    "#    set_of_items_on_receipt = make_itemsets(receipt_line)\n",
    "#    print(\"individual\",set_of_items_on_receipt)\n",
    "groceries_rules=find_assoc_rules(all_receipts,0.6)\n",
    "print_rules (groceries_rules)"
   ]
  }
 ],
 "metadata": {
  "kernelspec": {
   "display_name": "Python 3",
   "language": "python",
   "name": "python3"
  },
  "language_info": {
   "codemirror_mode": {
    "name": "ipython",
    "version": 3
   },
   "file_extension": ".py",
   "mimetype": "text/x-python",
   "name": "python",
   "nbconvert_exporter": "python",
   "pygments_lexer": "ipython3",
   "version": "3.6.0"
  }
 },
 "nbformat": 4,
 "nbformat_minor": 2
}
