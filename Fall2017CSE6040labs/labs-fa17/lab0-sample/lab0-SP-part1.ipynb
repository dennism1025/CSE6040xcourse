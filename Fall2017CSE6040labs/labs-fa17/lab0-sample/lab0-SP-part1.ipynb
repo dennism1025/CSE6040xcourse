{
 "cells": [
  {
   "cell_type": "code",
   "execution_count": 1,
   "metadata": {
    "collapsed": false
   },
   "outputs": [
    {
     "name": "stdout",
     "output_type": "stream",
     "text": [
      "  % Total    % Received % Xferd  Average Speed   Time    Time     Time  Current\n",
      "                                 Dload  Upload   Total   Spent    Left  Speed\n",
      "100   161  100   161    0     0    157      0  0:00:01  0:00:01 --:--:--   162\n",
      "100   215  100   215    0     0    160      0  0:00:01  0:00:01 --:--:--   160\n"
     ]
    }
   ],
   "source": [
    "!curl -O -L https://github.com/cse6040/labs-fa17/raw/master/datasets/message_in_a_bottle.txt.zip"
   ]
  },
  {
   "cell_type": "code",
   "execution_count": 2,
   "metadata": {
    "collapsed": false
   },
   "outputs": [
    {
     "name": "stdout",
     "output_type": "stream",
     "text": [
      "\r\n",
      "=== Files in the current directory (from a shell command) ===\r\n",
      "\r\n",
      "total 96\r\n",
      "drwxr-xr-x  10 shantanu  staff    340 Aug  7 20:53 \u001b[34m.\u001b[m\u001b[m\r\n",
      "drwxr-xr-x  21 shantanu  staff    714 Aug  7 20:06 \u001b[34m..\u001b[m\u001b[m\r\n",
      "-rw-r--r--@  1 shantanu  staff   6148 Aug  7 20:10 .DS_Store\r\n",
      "drwxr-xr-x   7 shantanu  staff    238 Aug  7 20:53 \u001b[34m.ipynb_checkpoints\u001b[m\u001b[m\r\n",
      "-rwxr-xr-x   1 shantanu  staff  12051 Aug  7 20:06 \u001b[31mextra.ipynb\u001b[m\u001b[m\r\n",
      "-rw-r--r--   1 shantanu  staff   1906 Aug  7 20:33 lab0-SP-part0.ipynb\r\n",
      "-rw-r--r--   1 shantanu  staff    688 Aug  7 20:53 lab0-SP-part1.ipynb\r\n",
      "-rw-r--r--   1 shantanu  staff    215 Aug  7 20:53 message_in_a_bottle.txt.zip\r\n",
      "-rwxr-xr-x   1 shantanu  staff   7441 Aug  7 20:06 \u001b[31mpart0.ipynb\u001b[m\u001b[m\r\n",
      "-rwxr-xr-x   1 shantanu  staff   6288 Aug  7 20:06 \u001b[31mpart1.ipynb\u001b[m\u001b[m\r\n"
     ]
    }
   ],
   "source": [
    "!echo && echo \"=== Files in the current directory (from a shell command) ===\" && echo && ls -al"
   ]
  },
  {
   "cell_type": "code",
   "execution_count": 3,
   "metadata": {
    "collapsed": false
   },
   "outputs": [
    {
     "name": "stdout",
     "output_type": "stream",
     "text": [
      "\n",
      "=== Files in the current directory (from Python) ===\n",
      "['.DS_Store', '.ipynb_checkpoints', 'extra.ipynb', 'lab0-SP-part0.ipynb', 'lab0-SP-part1.ipynb', 'message_in_a_bottle.txt.zip', 'part0.ipynb', 'part1.ipynb']\n"
     ]
    }
   ],
   "source": [
    "import os\n",
    "print(\"\\n=== Files in the current directory (from Python) ===\\n{}\".format(os.listdir('.')))"
   ]
  },
  {
   "cell_type": "code",
   "execution_count": 4,
   "metadata": {
    "collapsed": false
   },
   "outputs": [
    {
     "name": "stdout",
     "output_type": "stream",
     "text": [
      "message_in_a_bottle.txt.zip\n"
     ]
    }
   ],
   "source": [
    "filename = \"message_in_a_bottle.txt.zip\"\n",
    "print(filename)"
   ]
  },
  {
   "cell_type": "code",
   "execution_count": 5,
   "metadata": {
    "collapsed": false
   },
   "outputs": [
    {
     "name": "stdout",
     "output_type": "stream",
     "text": [
      "`filename`: 'message_in_a_bottle.txt.zip'\n",
      "\n",
      "=== BEGIN MESSAGE ===\n",
      "Good luck, kiddos!\n",
      "=== END MESSAGE ===\n"
     ]
    }
   ],
   "source": [
    "# Test cell\n",
    "print(\"`filename`: '{}'\".format(filename))\n",
    "from zipfile import ZipFile\n",
    "with ZipFile(filename, 'r') as input_zip:\n",
    "    with input_zip.open(filename[:-4], 'r') as input_file:\n",
    "        message = input_file.readline().decode('utf-8')\n",
    "print(\"\\n=== BEGIN MESSAGE ===\\n{}=== END MESSAGE ===\".format(message))"
   ]
  },
  {
   "cell_type": "code",
   "execution_count": null,
   "metadata": {
    "collapsed": true
   },
   "outputs": [],
   "source": []
  }
 ],
 "metadata": {
  "kernelspec": {
   "display_name": "Python 3",
   "language": "python",
   "name": "python3"
  },
  "language_info": {
   "codemirror_mode": {
    "name": "ipython",
    "version": 3
   },
   "file_extension": ".py",
   "mimetype": "text/x-python",
   "name": "python",
   "nbconvert_exporter": "python",
   "pygments_lexer": "ipython3",
   "version": "3.6.0"
  }
 },
 "nbformat": 4,
 "nbformat_minor": 2
}
